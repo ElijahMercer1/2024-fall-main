{
  "cells": [
    {
      "cell_type": "markdown",
      "metadata": {
        "id": "8wuqMAWxbSp6"
      },
      "source": [
        "# Learning the Keras functional API\n",
        "\n",
        "<a id = 'top'></a>\n",
        "\n",
        "  * A. [Intro to the Functional API](#introToFunctionalKeras)\n",
        "  * B. [A word about word embeddings](#wordAboutEmbeddings)\n",
        "  * C. [Description of our dataset](#datasetDescription)\n",
        "  * D. [Let's Build our functional model](#buildModel)\n",
        "  * E. [Let's Train and Evaluate our model](#trainModel)\n",
        "  * F. [Considerations for further exploration](#furtherExploration)\n",
        "  * G. [A More Complex Architecture](complexArch)\n",
        "  * H. [Some Rudimentary Analysis](someAnalysis)\n",
        "\n",
        "\n",
        "\n"
      ]
    },
    {
      "cell_type": "markdown",
      "metadata": {
        "id": "0mho1OXUbSp9"
      },
      "source": [
        "<a id = 'introToFunctionalKeras'></a>\n",
        "## A. Intro to the Functional API\n",
        "The Keras functional syntax for models is only slightly different from the sequential syntax.  It is an intuitive way to build up model graphs.  In return it offers much greater flexibility, allowing multiple connections from arbitrary layers to other layers.  \n",
        "\n",
        "It is referred to as \"functional\" since you use layers as functions called on input nodes to create output nodes.  A good place to start is the [Keras functional documentation](https://keras.io/guides/functional_api/)\n",
        "\n",
        "Many of the more advanced deep-learning networks you will learn about require layer connections which are not strictly sequential; therefore we will mostly use the functional syntax moving forward.\n",
        "\n",
        "This notebook gives you a sense of how to use the functional syntax to create a network, even though our example model will end up being one where layers are consecutively connected.\n",
        "\n",
        "[![Open In Colab](https://colab.research.google.com/assets/colab-badge.svg)](https://colab.research.google.com/github/datasci-w266/2024-fall-main/blob/master/materials/walkthrough_notebooks/functional_keras_quickstart/keras_functional_intro_v2.ipynb)\n",
        "\n",
        "\n",
        "[Go to Top](#top)"
      ]
    },
    {
      "cell_type": "code",
      "source": [
        "#Make sure we install the right versions for KERAS 2\n",
        "!pip install tensorflow==2.15.0 --quiet\n",
        "!pip install tf_keras==2.15.0 --quiet\n"
      ],
      "metadata": {
        "colab": {
          "base_uri": "https://localhost:8080/"
        },
        "id": "anaTYWqXfLBG",
        "outputId": "d603e345-1eb0-45e7-f856-0f25804fa9dc"
      },
      "execution_count": 1,
      "outputs": [
        {
          "output_type": "stream",
          "name": "stdout",
          "text": [
            "\u001b[2K   \u001b[90m━━━━━━━━━━━━━━━━━━━━━━━━━━━━━━━━━━━━━━━━\u001b[0m \u001b[32m475.2/475.2 MB\u001b[0m \u001b[31m3.1 MB/s\u001b[0m eta \u001b[36m0:00:00\u001b[0m\n",
            "\u001b[2K   \u001b[90m━━━━━━━━━━━━━━━━━━━━━━━━━━━━━━━━━━━━━━━━\u001b[0m \u001b[32m1.7/1.7 MB\u001b[0m \u001b[31m18.7 MB/s\u001b[0m eta \u001b[36m0:00:00\u001b[0m\n",
            "\u001b[2K   \u001b[90m━━━━━━━━━━━━━━━━━━━━━━━━━━━━━━━━━━━━━━━━\u001b[0m \u001b[32m1.0/1.0 MB\u001b[0m \u001b[31m35.3 MB/s\u001b[0m eta \u001b[36m0:00:00\u001b[0m\n",
            "\u001b[2K   \u001b[90m━━━━━━━━━━━━━━━━━━━━━━━━━━━━━━━━━━━━━━━━\u001b[0m \u001b[32m5.5/5.5 MB\u001b[0m \u001b[31m30.9 MB/s\u001b[0m eta \u001b[36m0:00:00\u001b[0m\n",
            "\u001b[2K   \u001b[90m━━━━━━━━━━━━━━━━━━━━━━━━━━━━━━━━━━━━━━━━\u001b[0m \u001b[32m442.0/442.0 kB\u001b[0m \u001b[31m23.0 MB/s\u001b[0m eta \u001b[36m0:00:00\u001b[0m\n",
            "\u001b[2K   \u001b[90m━━━━━━━━━━━━━━━━━━━━━━━━━━━━━━━━━━━━━━━━\u001b[0m \u001b[32m77.9/77.9 kB\u001b[0m \u001b[31m2.4 MB/s\u001b[0m eta \u001b[36m0:00:00\u001b[0m\n",
            "\u001b[?25h\u001b[31mERROR: pip's dependency resolver does not currently take into account all the packages that are installed. This behaviour is the source of the following dependency conflicts.\n",
            "tensorstore 0.1.65 requires ml-dtypes>=0.3.1, but you have ml-dtypes 0.2.0 which is incompatible.\n",
            "tf-keras 2.17.0 requires tensorflow<2.18,>=2.17, but you have tensorflow 2.15.0 which is incompatible.\u001b[0m\u001b[31m\n",
            "\u001b[2K   \u001b[90m━━━━━━━━━━━━━━━━━━━━━━━━━━━━━━━━━━━━━━━━\u001b[0m \u001b[32m1.7/1.7 MB\u001b[0m \u001b[31m24.2 MB/s\u001b[0m eta \u001b[36m0:00:00\u001b[0m\n",
            "\u001b[?25h"
          ]
        }
      ]
    },
    {
      "cell_type": "code",
      "execution_count": 2,
      "metadata": {
        "id": "eHmEihm4bSp_"
      },
      "outputs": [],
      "source": [
        "!pip install gensim --quiet"
      ]
    },
    {
      "cell_type": "code",
      "execution_count": 3,
      "metadata": {
        "id": "AIeXffGPbSqB"
      },
      "outputs": [],
      "source": [
        "import nltk\n",
        "from nltk.corpus import reuters\n",
        "from nltk.data import find\n",
        "\n",
        "import numpy as np\n",
        "\n",
        "import matplotlib.pyplot as plt\n",
        "\n",
        "import re\n",
        "\n",
        "#use gensim to get static pre-trained embeddings\n",
        "import gensim\n",
        "from gensim.models import Word2Vec\n",
        "from gensim.models import KeyedVectors\n",
        "from gensim.test.utils import datapath"
      ]
    },
    {
      "cell_type": "code",
      "execution_count": 4,
      "metadata": {
        "id": "9pIukuKikOKC"
      },
      "outputs": [],
      "source": [
        "#useful analysis tools\n",
        "from collections import Counter\n",
        "import seaborn as sns\n",
        "\n",
        "from pprint import pprint\n",
        "\n",
        "from sklearn.metrics import classification_report"
      ]
    },
    {
      "cell_type": "markdown",
      "metadata": {
        "id": "ZRWiXR2abSqC"
      },
      "source": [
        "<a id = 'wordAboutEmbeddings'></a>\n",
        "## B. A word about word embeddings\n",
        "\n",
        "This example will use pre-trained word embeddings from [nltk / gensim](https://github.com/nltk/nltk/blob/develop/nltk/test/gensim.doctest)\n",
        "\n",
        "You will have more chance to work with embedding vectors in a later homework.  If you haven't been exposed to word embeddings (like \"word2vec\") think of embeddings as a way to represent word meaning in geometric space, allowing us to do things like compare word similarities using vector operations like dot products.  For now, we'll use the word2vec pre-trained model to create an embedding layer for our classifier model.\n",
        "\n",
        "[Go to Top](#top)"
      ]
    },
    {
      "cell_type": "code",
      "execution_count": 5,
      "metadata": {
        "colab": {
          "base_uri": "https://localhost:8080/"
        },
        "id": "DF_ElteobSqC",
        "outputId": "e571be6b-aded-463e-a9d5-e04d57ce734f"
      },
      "outputs": [
        {
          "output_type": "stream",
          "name": "stderr",
          "text": [
            "[nltk_data] Downloading package word2vec_sample to /root/nltk_data...\n",
            "[nltk_data]   Unzipping models/word2vec_sample.zip.\n"
          ]
        },
        {
          "output_type": "stream",
          "name": "stdout",
          "text": [
            "The length of gensim embedding vocabulary : 43981\n",
            "Length d of embedding vectors : 300\n",
            "The shape of our embedding matrix is (43982, 300)\n"
          ]
        }
      ],
      "source": [
        "# Download NLTK's sample word2vec embeddings\n",
        "\n",
        "nltk.download('word2vec_sample')\n",
        "\n",
        "word2vec_sample = str(find('models/word2vec_sample/pruned.word2vec.txt'))\n",
        "\n",
        "embmod = KeyedVectors.load_word2vec_format(datapath(word2vec_sample), binary=False)\n",
        "print('The length of gensim embedding vocabulary : {}'.format(len(embmod)))\n",
        "EMBEDDING_DIM = len(embmod['university'])\n",
        "print('Length d of embedding vectors : {}'.format(EMBEDDING_DIM))\n",
        "\n",
        "# initialize embedding matrix and word-to-id map:\n",
        "embedding_matrix = np.zeros((len(embmod) + 1, EMBEDDING_DIM))\n",
        "vocab_dict = {}\n",
        "\n",
        "# build the embedding matrix and the word-to-id map:\n",
        "for i, word in enumerate(embmod.key_to_index.keys()):\n",
        "    embedding_vector = embmod[word]\n",
        "    if embedding_vector is not None:\n",
        "        # words not found in embedding index will be all-zeros.\n",
        "        embedding_matrix[i] = embedding_vector\n",
        "        vocab_dict[word] = i\n",
        "\n",
        "print('The shape of our embedding matrix is {}'.format(embedding_matrix.shape))"
      ]
    },
    {
      "cell_type": "markdown",
      "metadata": {
        "id": "i826wJrbbSqD"
      },
      "source": [
        "<a id = 'datasetDescription'></a>\n",
        "## C. Description of our dataset\n",
        "\n",
        "We will create a classifier model on the [large movie review dataset from Stanford AI Lab](https://ai.stanford.edu/~amaas/data/sentiment/).\n",
        "\n",
        "This dataset was used in the paper:  \n",
        "[Learning Word Vectors for Sentiment Analysis by Andrew L. Maas, Raymond E. Daly, Peter T. Pham, Dan Huang, Andrew Y. Ng, Christopher Potts from the Jun 2011 issue of ACL.](https://www.aclweb.org/anthology/P11-1015.pdf)  \n",
        "\n",
        "The dataset training samples are split between:\n",
        "  * \"negative\" movie reviews, with ratings in the range (1,2,3,4) and\n",
        "  * \"positive reviews in the range of (7,8,9,10).\n",
        "\n",
        "We will re-group the ratings into 2 \"negative\" groups and 2 \"positive\" groups, to make our classification task a bit easier.\n",
        "\n",
        "[Go to Top](#top)"
      ]
    },
    {
      "cell_type": "code",
      "execution_count": 6,
      "metadata": {
        "colab": {
          "base_uri": "https://localhost:8080/"
        },
        "id": "xceJ3D60bSqF",
        "outputId": "d7ff8e0e-efde-4b09-8cbc-f6389dbd9eec"
      },
      "outputs": [
        {
          "output_type": "stream",
          "name": "stdout",
          "text": [
            "Finished downloading file\n",
            "Finished untar-ing file\n",
            "Our unique class labels are: [0 1 2 3]\n"
          ]
        }
      ],
      "source": [
        "# Download the dataset\n",
        "import requests\n",
        "url = 'https://ai.stanford.edu/~amaas/data/sentiment/aclImdb_v1.tar.gz'\n",
        "r = requests.get(url, allow_redirects=True)\n",
        "print('Finished downloading file')\n",
        "open('aclImdb_v1.tar.gz', 'wb').write(r.content)\n",
        "\n",
        "# Untar the downloaded file\n",
        "!tar xfz aclImdb_v1.tar.gz\n",
        "print('Finished untar-ing file')\n",
        "\n",
        "input_length = 100\n",
        "import os\n",
        "import re\n",
        "pos_directory = \"./aclImdb/train/pos/\"\n",
        "neg_directory = \"./aclImdb/train/neg/\"\n",
        "\n",
        "# The original labels are negative in [1,2,3,4] and 'positive in [7,8,9,10]'\n",
        "# To simplify our classification let's reduce the number of classes by remapping ratings:\n",
        "#     Map labels to new labels\n",
        "#      1, 2  map to 0\n",
        "#      3, 4 map to 1\n",
        "#      7, 8  map to 2\n",
        "#      9, 10 map to 3\n",
        "maplabels = {\"1\" : 0, \"2\" : 0,\n",
        "             \"3\" : 1, \"4\" : 1,\n",
        "             \"7\" : 2, \"8\" : 2,\n",
        "             \"9\" : 3, \"10\" : 3}\n",
        "\n",
        "# Create pos and neg training samples by tokenizing the first 100 words from each review\n",
        "pos_samples = []\n",
        "pos_labels = []\n",
        "\n",
        "#convert the actual words into integer ids so the corresponding embedding can be used\n",
        "#we'll do it separately for both positive and negative reviews\n",
        "pat = re.compile('\\d+_(\\d+).txt')\n",
        "for file in os.listdir(pos_directory):\n",
        "    with open(pos_directory + file, 'r') as fh:\n",
        "        review = fh.readline().split()\n",
        "        if len(review) < input_length:\n",
        "            whole = int(input_length / len(review) )\n",
        "            leftover = len(review) % input_length\n",
        "            review = review * whole + review[:leftover]\n",
        "        tokens = [vocab_dict.get(word, 43981) for word in review[:input_length]] # only take the first input_length words\n",
        "        pos_samples.append(tokens)\n",
        "        label = pat.sub(r'\\1', file) # Extract label from filename\n",
        "        pos_labels.append(maplabels[label])\n",
        "\n",
        "neg_samples = []\n",
        "neg_labels = []\n",
        "for file in os.listdir(neg_directory):\n",
        "    with open(neg_directory + file, 'r') as fh:\n",
        "        review = fh.readline().split()\n",
        "        if len(review) < input_length:\n",
        "            whole = int(input_length / len(review) )\n",
        "            leftover = len(review) % input_length\n",
        "            review = review * whole + review[:leftover]\n",
        "        tokens = [vocab_dict.get(word, 43981) for word in review[:input_length]]\n",
        "        neg_samples.append(tokens)\n",
        "        label = pat.sub(r'\\1', file) # Extract label from filename\n",
        "        neg_labels.append(maplabels[label])\n",
        "\n",
        "# Create x samples and labels\n",
        "from sklearn.model_selection import train_test_split\n",
        "\n",
        "xsamples = pos_samples + neg_samples # combine lists\n",
        "# labels = [1] * len(pos_samples) + [0] * len(neg_samples)\n",
        "labels = pos_labels + neg_labels\n",
        "\n",
        "# Repackage as numpy arrays\n",
        "xsamples = np.array(xsamples)\n",
        "labels = np.array(labels).reshape([-1,1]) # Labels must have at least one column\n",
        "\n",
        "# Create training, eval split\n",
        "train_input, test_input, train_labels, test_labels = train_test_split(xsamples, labels, test_size = 0.2,\n",
        "                                                         random_state = 41,\n",
        "                                                         shuffle = True)\n",
        "\n",
        "# Investigate the unique class \"levels\"\n",
        "print('Our unique class labels are: {}'.format(np.unique(labels)))\n"
      ]
    },
    {
      "cell_type": "markdown",
      "metadata": {
        "id": "CvXNMDOcScCy"
      },
      "source": [
        "Let's look at one of our converted training records.  It should consist of integer ids between 0 and 43981."
      ]
    },
    {
      "cell_type": "code",
      "execution_count": 7,
      "metadata": {
        "colab": {
          "base_uri": "https://localhost:8080/"
        },
        "id": "sKVdUYjQbSqF",
        "outputId": "4cb4ef35-7260-4feb-bc65-183ae2a5a7db"
      },
      "outputs": [
        {
          "output_type": "execute_result",
          "data": {
            "text/plain": [
              "array([12139,  3679, 10756,  1331, 14193, 21908, 11775, 43981, 35029,\n",
              "       20730, 43981, 15402, 25718, 26096, 39028, 12139,  3558, 20682,\n",
              "       16909, 31066, 11511, 31670, 25272, 21068, 43981, 14193, 35058,\n",
              "        7605, 43981, 24486, 43981, 15402,  7113, 43981, 19345, 42958,\n",
              "       14193, 23208,  1924, 21068, 43981, 23245, 41700, 37813, 43981,\n",
              "       43981, 43981, 43981,  2700, 16908,  1331, 14193, 23158, 43981,\n",
              "       14193, 43981, 36219, 43981, 14819,  2566, 33871, 43981, 28959,\n",
              "       43981,   524, 43981, 35058, 37813, 14149, 19123,  1331, 14193,\n",
              "       20730, 41343, 43981, 10616, 14819,  2566, 22793, 37256, 43981,\n",
              "       43981, 43981, 17006, 16908, 43981, 14926, 37751, 33043,  1331,\n",
              "       43981, 30103, 28901,  5253, 12292, 43981, 42590, 43981, 36355,\n",
              "       37990])"
            ]
          },
          "metadata": {},
          "execution_count": 7
        }
      ],
      "source": [
        "train_input[0]"
      ]
    },
    {
      "cell_type": "markdown",
      "metadata": {
        "id": "bGJg8tXHScCz"
      },
      "source": [
        "Let's look for possible class imbalance.  Ideally we want roughly the same number of training samples in each class."
      ]
    },
    {
      "cell_type": "code",
      "execution_count": 8,
      "metadata": {
        "colab": {
          "base_uri": "https://localhost:8080/"
        },
        "id": "AzGnRWxnbSqG",
        "outputId": "2ea9317d-a713-4cc1-e807-a3ab5f405b87"
      },
      "outputs": [
        {
          "output_type": "stream",
          "name": "stdout",
          "text": [
            "Number of training samples = 20000\n",
            "class 0 has 5898 samples (29.49%)\n",
            "class 1 has 4096 samples (20.48%)\n",
            "class 2 has 4394 samples (21.97%)\n",
            "class 3 has 5612 samples (28.06%)\n",
            "\n",
            "Number of test samples = 5000\n",
            "class 0 has 1486 samples (29.72%)\n",
            "class 1 has 1020 samples (20.40%)\n",
            "class 2 has 1111 samples (22.22%)\n",
            "class 3 has 1383 samples (27.66%)\n"
          ]
        }
      ],
      "source": [
        "ltrain = len(train_labels)\n",
        "print('Number of training samples = {}'.format(ltrain))\n",
        "for i in range(4):\n",
        "    nclass = len(np.where(train_labels.reshape([-1]) == i)[0])\n",
        "    print('class ' + str(i) + ' has {} samples ({:.2f}%)'.format(nclass, 100 * float(nclass / ltrain )))\n",
        "\n",
        "print()\n",
        "ltest = len(test_labels)\n",
        "print('Number of test samples = {}'.format(ltest))\n",
        "for i in range(4):\n",
        "    nclass = len(np.where(test_labels.reshape([-1]) == i)[0])\n",
        "    print('class ' + str(i) + ' has {} samples ({:.2f}%)'.format(nclass, 100 * float(nclass / ltest )))"
      ]
    },
    {
      "cell_type": "markdown",
      "metadata": {
        "id": "NxKynLXmbSqG"
      },
      "source": [
        "<a id = 'buildModel'></a>\n",
        "## D. Let's build our functional model\n",
        "Building up a network involves using layers as functions and calling those functions on input tensors to create output tensors, which then can be used to feed other layers.\n",
        "\n",
        "For example, you can create an input and output connection using a dense layer by doing the following:\n",
        "\n",
        "  * x = Dense(50, activation='relu')(x)\n",
        "\n",
        "or by declaring the layer separately and then calling that layer as a function with input, x:\n",
        "\n",
        "  * dlayer = Dense(50, activation='relu')  \n",
        "  * x = dlayer(x)\n",
        "\n",
        "In the second representation, you can see that layer instances resemble functions called on graph nodes."
      ]
    },
    {
      "cell_type": "markdown",
      "metadata": {
        "id": "bOIhbguTScC1"
      },
      "source": [
        "Now we need to create our embedding matrix.  We'll populate it with the embedding values we downloaded from the nltk sample of word2vec. The embedding matrix will take care of converting the integer ids into the corresponding embedding vector."
      ]
    },
    {
      "cell_type": "code",
      "execution_count": 9,
      "metadata": {
        "id": "kpqTt-TibSqH"
      },
      "outputs": [],
      "source": [
        "import tensorflow as tf\n",
        "from tensorflow import keras\n",
        "\n",
        "from tensorflow.keras.layers import Embedding, Input, Dense, Lambda\n",
        "from tensorflow.keras.models import Model\n",
        "import tensorflow.keras.backend as K\n",
        "\n",
        "\n",
        "#  Package our word2vec embedding model as a fixed pre-trained embedding.\n",
        "#  Note we set the argument \"trainable\" to False as we don't want to modify our pre-trained\n",
        "#  ...embedding values during model training.\n",
        "\n",
        "embedding_layer = Embedding(embedding_matrix.shape[0],\n",
        "                            embedding_matrix.shape[1],\n",
        "                            embeddings_initializer=tf.keras.initializers.Constant(embedding_matrix),\n",
        "                            # input_length=input_length,\n",
        "                            trainable=False)\n"
      ]
    },
    {
      "cell_type": "markdown",
      "metadata": {
        "id": "SA6qNRibbSqH"
      },
      "source": [
        "Now that we've created our first embedding layer, let's build the model adding other layers using the **Functional API**:"
      ]
    },
    {
      "cell_type": "code",
      "execution_count": 10,
      "metadata": {
        "id": "jIcebr-jbSqH"
      },
      "outputs": [],
      "source": [
        "# Choose a word length to truncate each movie review\n",
        "input_length = 100\n",
        "\n",
        "# Define an input using our input fixed number of words per review sample\n",
        "input_x = Input(shape = (input_length,), name=\"input_words\")\n",
        "\n",
        "# Apply embeddings to each word input\n",
        "x1 = embedding_layer(input_x)\n",
        "\n",
        "# Use Keras lambda function layer to take the mean of the 100 word vectors\n",
        "x2 = tf.keras.layers.Lambda(lambda x: K.mean(x, axis=1))(x1)    # average of embedding vectors\n",
        "\n",
        "# Continue building the network graph with some hidden layers\n",
        "x3 = Dense(50, activation='relu', name=\"hidden1\")(x2)   # hidden layer\n",
        "x4 = Dense(20, activation='relu', name=\"hidden2\")(x3)   # hidden layer\n",
        "\n",
        "# Our final output classifier layer.  It has 4 outputs (one for each class)\n",
        "# Because this is a multi-class output we'll use softmax as an activation.\n",
        "# We want the predictor outputs to always sum to 1 to represent probability.\n",
        "yhat = Dense(4, activation='softmax', name=\"output\")(x4)   # classification layer\n",
        "\n",
        "# Define the model by indicating its original input and final output\n",
        "model = Model(inputs=input_x, outputs=yhat, name=\"keras_func_model\")\n",
        "\n",
        "# Compile the model\n",
        "model.compile(optimizer='adam',\n",
        "              loss='sparse_categorical_crossentropy',\n",
        "              metrics = ['sparse_categorical_accuracy'])"
      ]
    },
    {
      "cell_type": "markdown",
      "metadata": {
        "id": "fDOGF9B7bSqI"
      },
      "source": [
        "**Review the output layers, output dimensions, number of weights**"
      ]
    },
    {
      "cell_type": "markdown",
      "metadata": {
        "id": "vSvnHGJFbSqI"
      },
      "source": [
        "Let's see whether our dimension discussion was correct. Print a model summary:"
      ]
    },
    {
      "cell_type": "code",
      "execution_count": 11,
      "metadata": {
        "colab": {
          "base_uri": "https://localhost:8080/"
        },
        "id": "9eSgmBBkbSqI",
        "outputId": "c2699235-11a0-4933-8cab-508d355f5875"
      },
      "outputs": [
        {
          "output_type": "stream",
          "name": "stdout",
          "text": [
            "Model: \"keras_func_model\"\n",
            "_________________________________________________________________\n",
            " Layer (type)                Output Shape              Param #   \n",
            "=================================================================\n",
            " input_words (InputLayer)    [(None, 100)]             0         \n",
            "                                                                 \n",
            " embedding (Embedding)       (None, 100, 300)          13194600  \n",
            "                                                                 \n",
            " lambda (Lambda)             (None, 300)               0         \n",
            "                                                                 \n",
            " hidden1 (Dense)             (None, 50)                15050     \n",
            "                                                                 \n",
            " hidden2 (Dense)             (None, 20)                1020      \n",
            "                                                                 \n",
            " output (Dense)              (None, 4)                 84        \n",
            "                                                                 \n",
            "=================================================================\n",
            "Total params: 13210754 (50.40 MB)\n",
            "Trainable params: 16154 (63.10 KB)\n",
            "Non-trainable params: 13194600 (50.33 MB)\n",
            "_________________________________________________________________\n"
          ]
        }
      ],
      "source": [
        "model.summary()"
      ]
    },
    {
      "cell_type": "markdown",
      "metadata": {
        "id": "r7DjpJ0DScC2"
      },
      "source": [
        "The model summary is a useful tool for telling us if we have implemented the network we want.  Note that it gives us a list of layers which are identified by the labels we used in the \"name\" variable when we defined the layer.  Good labeling can help you more easily confirm the model is doing what you want.\n",
        "\n",
        "The model summary also indicates the dimension of each layer as well as the number of trainable and non-trainable parameters.  Pay close attention to this information.  Does the mix of trainable and non-trainable parameters agree with what you intended?  In our case, we want the embeddings to remain unmodified during the training process so having a large number of non-trainable parameters makes sense.  Is the number of untrainable parameters equal to the number of parameters in the Embedding layer?"
      ]
    },
    {
      "cell_type": "markdown",
      "metadata": {
        "id": "WQcVk5b0bSqI"
      },
      "source": [
        "<a id = 'trainModel'></a>\n",
        "## E. Let's Train and Evaluate our model\n",
        "\n",
        "[Return to Top](#top)\n",
        "\n",
        "Note that we are using a validation split of 80/20, meaning that we will automatically divide the training data into two groups -- one for learning and one for validation.  We created a test set earlier but we are setting that aside for later testing.  Every time you run use this training data for learning you will get a different set of records in training and validation."
      ]
    },
    {
      "cell_type": "code",
      "execution_count": 12,
      "metadata": {
        "colab": {
          "base_uri": "https://localhost:8080/"
        },
        "id": "cn6jHx1EbSqJ",
        "outputId": "fd77f8ed-7742-4782-bd89-4c149d5047f9"
      },
      "outputs": [
        {
          "output_type": "stream",
          "name": "stdout",
          "text": [
            "Epoch 1/30\n",
            "40/40 [==============================] - 2s 10ms/step - loss: 1.3730 - sparse_categorical_accuracy: 0.2909 - val_loss: 1.3711 - val_sparse_categorical_accuracy: 0.2948\n",
            "Epoch 2/30\n",
            "40/40 [==============================] - 0s 4ms/step - loss: 1.3623 - sparse_categorical_accuracy: 0.3267 - val_loss: 1.3589 - val_sparse_categorical_accuracy: 0.3440\n",
            "Epoch 3/30\n",
            "40/40 [==============================] - 0s 4ms/step - loss: 1.3462 - sparse_categorical_accuracy: 0.3597 - val_loss: 1.3386 - val_sparse_categorical_accuracy: 0.3700\n",
            "Epoch 4/30\n",
            "40/40 [==============================] - 0s 5ms/step - loss: 1.3223 - sparse_categorical_accuracy: 0.3972 - val_loss: 1.3096 - val_sparse_categorical_accuracy: 0.4095\n",
            "Epoch 5/30\n",
            "40/40 [==============================] - 0s 4ms/step - loss: 1.2894 - sparse_categorical_accuracy: 0.4326 - val_loss: 1.2754 - val_sparse_categorical_accuracy: 0.4255\n",
            "Epoch 6/30\n",
            "40/40 [==============================] - 0s 4ms/step - loss: 1.2486 - sparse_categorical_accuracy: 0.4601 - val_loss: 1.2289 - val_sparse_categorical_accuracy: 0.4545\n",
            "Epoch 7/30\n",
            "40/40 [==============================] - 0s 5ms/step - loss: 1.2075 - sparse_categorical_accuracy: 0.4770 - val_loss: 1.1938 - val_sparse_categorical_accuracy: 0.4618\n",
            "Epoch 8/30\n",
            "40/40 [==============================] - 0s 4ms/step - loss: 1.1752 - sparse_categorical_accuracy: 0.4824 - val_loss: 1.1654 - val_sparse_categorical_accuracy: 0.4730\n",
            "Epoch 9/30\n",
            "40/40 [==============================] - 0s 4ms/step - loss: 1.1517 - sparse_categorical_accuracy: 0.4905 - val_loss: 1.1511 - val_sparse_categorical_accuracy: 0.4765\n",
            "Epoch 10/30\n",
            "40/40 [==============================] - 0s 5ms/step - loss: 1.1364 - sparse_categorical_accuracy: 0.4957 - val_loss: 1.1351 - val_sparse_categorical_accuracy: 0.4807\n",
            "Epoch 11/30\n",
            "40/40 [==============================] - 0s 11ms/step - loss: 1.1248 - sparse_categorical_accuracy: 0.4995 - val_loss: 1.1249 - val_sparse_categorical_accuracy: 0.4900\n",
            "Epoch 12/30\n",
            "40/40 [==============================] - 0s 4ms/step - loss: 1.1168 - sparse_categorical_accuracy: 0.5079 - val_loss: 1.1172 - val_sparse_categorical_accuracy: 0.4882\n",
            "Epoch 13/30\n",
            "40/40 [==============================] - 0s 6ms/step - loss: 1.1090 - sparse_categorical_accuracy: 0.5083 - val_loss: 1.1131 - val_sparse_categorical_accuracy: 0.4905\n",
            "Epoch 14/30\n",
            "40/40 [==============================] - 0s 7ms/step - loss: 1.1044 - sparse_categorical_accuracy: 0.5104 - val_loss: 1.1085 - val_sparse_categorical_accuracy: 0.4942\n",
            "Epoch 15/30\n",
            "40/40 [==============================] - 0s 6ms/step - loss: 1.1034 - sparse_categorical_accuracy: 0.5084 - val_loss: 1.1063 - val_sparse_categorical_accuracy: 0.4913\n",
            "Epoch 16/30\n",
            "40/40 [==============================] - 0s 7ms/step - loss: 1.0964 - sparse_categorical_accuracy: 0.5158 - val_loss: 1.1005 - val_sparse_categorical_accuracy: 0.4940\n",
            "Epoch 17/30\n",
            "40/40 [==============================] - 0s 6ms/step - loss: 1.0914 - sparse_categorical_accuracy: 0.5176 - val_loss: 1.0990 - val_sparse_categorical_accuracy: 0.4933\n",
            "Epoch 18/30\n",
            "40/40 [==============================] - 0s 8ms/step - loss: 1.0893 - sparse_categorical_accuracy: 0.5203 - val_loss: 1.0973 - val_sparse_categorical_accuracy: 0.4978\n",
            "Epoch 19/30\n",
            "40/40 [==============================] - 0s 6ms/step - loss: 1.0857 - sparse_categorical_accuracy: 0.5211 - val_loss: 1.0979 - val_sparse_categorical_accuracy: 0.4967\n",
            "Epoch 20/30\n",
            "40/40 [==============================] - 0s 7ms/step - loss: 1.0836 - sparse_categorical_accuracy: 0.5223 - val_loss: 1.0950 - val_sparse_categorical_accuracy: 0.5000\n",
            "Epoch 21/30\n",
            "40/40 [==============================] - 0s 7ms/step - loss: 1.0827 - sparse_categorical_accuracy: 0.5211 - val_loss: 1.0896 - val_sparse_categorical_accuracy: 0.5015\n",
            "Epoch 22/30\n",
            "40/40 [==============================] - 0s 6ms/step - loss: 1.0790 - sparse_categorical_accuracy: 0.5261 - val_loss: 1.0892 - val_sparse_categorical_accuracy: 0.5030\n",
            "Epoch 23/30\n",
            "40/40 [==============================] - 0s 6ms/step - loss: 1.0777 - sparse_categorical_accuracy: 0.5254 - val_loss: 1.0856 - val_sparse_categorical_accuracy: 0.5050\n",
            "Epoch 24/30\n",
            "40/40 [==============================] - 0s 7ms/step - loss: 1.0778 - sparse_categorical_accuracy: 0.5272 - val_loss: 1.0879 - val_sparse_categorical_accuracy: 0.5027\n",
            "Epoch 25/30\n",
            "40/40 [==============================] - 0s 6ms/step - loss: 1.0739 - sparse_categorical_accuracy: 0.5279 - val_loss: 1.0840 - val_sparse_categorical_accuracy: 0.5085\n",
            "Epoch 26/30\n",
            "40/40 [==============================] - 0s 4ms/step - loss: 1.0723 - sparse_categorical_accuracy: 0.5278 - val_loss: 1.0831 - val_sparse_categorical_accuracy: 0.5070\n",
            "Epoch 27/30\n",
            "40/40 [==============================] - 0s 4ms/step - loss: 1.0695 - sparse_categorical_accuracy: 0.5298 - val_loss: 1.0812 - val_sparse_categorical_accuracy: 0.5085\n",
            "Epoch 28/30\n",
            "40/40 [==============================] - 0s 4ms/step - loss: 1.0677 - sparse_categorical_accuracy: 0.5326 - val_loss: 1.0795 - val_sparse_categorical_accuracy: 0.5092\n",
            "Epoch 29/30\n",
            "40/40 [==============================] - 0s 4ms/step - loss: 1.0665 - sparse_categorical_accuracy: 0.5334 - val_loss: 1.0772 - val_sparse_categorical_accuracy: 0.5085\n",
            "Epoch 30/30\n",
            "40/40 [==============================] - 0s 4ms/step - loss: 1.0695 - sparse_categorical_accuracy: 0.5320 - val_loss: 1.0878 - val_sparse_categorical_accuracy: 0.5085\n"
          ]
        }
      ],
      "source": [
        "# Train the model\n",
        "history = model.fit(train_input, train_labels, batch_size = 400, validation_split=0.2, epochs = 30)"
      ]
    },
    {
      "cell_type": "code",
      "execution_count": 13,
      "metadata": {
        "colab": {
          "base_uri": "https://localhost:8080/",
          "height": 945
        },
        "id": "j9isSQp-bSqJ",
        "outputId": "567149ef-1a9c-4aa8-f90d-be125268e3d8"
      },
      "outputs": [
        {
          "output_type": "stream",
          "name": "stdout",
          "text": [
            "dict_keys(['loss', 'sparse_categorical_accuracy', 'val_loss', 'val_sparse_categorical_accuracy'])\n"
          ]
        },
        {
          "output_type": "display_data",
          "data": {
            "text/plain": [
              "<Figure size 640x480 with 1 Axes>"
            ],
            "image/png": "[encoded data removed]"
          },
          "metadata": {}
        },
        {
          "output_type": "display_data",
          "data": {
            "text/plain": [
              "<Figure size 640x480 with 1 Axes>"
            ],
            "image/png": "[encoded data removed]"
          },
          "metadata": {}
        }
      ],
      "source": [
        "# Plot accuracy and loss for training / validation samples\n",
        "import matplotlib.pyplot as plt\n",
        "print(history.history.keys())\n",
        "# summarize history for accuracy\n",
        "plt.plot(history.history['sparse_categorical_accuracy'])\n",
        "plt.plot(history.history['val_sparse_categorical_accuracy'])\n",
        "plt.title('model accuracy')\n",
        "plt.ylabel('sparse_categorical_accuracy')\n",
        "plt.xlabel('epoch')\n",
        "plt.legend(['train', 'validation'], loc='upper left')\n",
        "plt.show()\n",
        "# summarize history for loss\n",
        "plt.plot(history.history['loss'])\n",
        "plt.plot(history.history['val_loss'])\n",
        "plt.title('model loss')\n",
        "plt.ylabel('loss')\n",
        "plt.xlabel('epoch')\n",
        "plt.legend(['train', 'test'], loc='upper left')\n",
        "plt.show()"
      ]
    },
    {
      "cell_type": "markdown",
      "metadata": {
        "id": "qx_kSAevbSqJ"
      },
      "source": [
        "How are our plotted curves looking?  Is the model converging?  \n",
        "\n",
        "\n",
        "<a id = 'furtherExploration'></a>\n",
        "## F. Some considerations for further exploration are:\n",
        "1. What evidence do you see that the above model might be over-fitting?\n",
        "\n",
        "2. Might BOW have some basic limitations for classification accuracy?  \n",
        "\n",
        "3. Might the restriction to the first 100 tokens in the review affect classification ccuracy?\n",
        "\n",
        "4. How might class imbalance impact possible accuracy / bias a model in a particular way to impact accuracy?  How could this be overcome?\n",
        "\n",
        "5. We are sparse_crossentropy_loss as loss function.  This might not be the optimal loss function.  Can you think of why?"
      ]
    },
    {
      "cell_type": "markdown",
      "metadata": {
        "id": "V4e-th0NEBUo"
      },
      "source": [
        "<a id = 'complexArch'></a>\n",
        "## G. A More Complex Architecture\n",
        "\n",
        "Now let's construct a contrived complex architecture to demonstrate the possible.  This is the reason we prefer the Keras functional API over the Keras sequential API.  Let's design a model with two outputs that allows us to compare the effect of normalzation and dropout vs. just dropout.  Could we train two separate models and compare them, yes.  However there are times when we want two distinct outputs based on a common origin.  We'll see applicable use cases later in the class.\n",
        "\n",
        "We'll lay out all of the layers we want and connect them below.  We'll then use the summary() function to make sure all of the layers are properly connected.  We'll use good naming practices to facilitate our checking process."
      ]
    },
    {
      "cell_type": "code",
      "execution_count": 14,
      "metadata": {
        "id": "JcXSGi5JbSqK"
      },
      "outputs": [],
      "source": [
        "# Choose a word length to truncate each movie review\n",
        "input_len = 100\n",
        "dense_size = 252\n",
        "drop = 0.3\n",
        "\n",
        "# Define an input using our input fixed number of words per review\n",
        "input_x = Input(shape = (input_len,), name=\"input_words\")\n",
        "\n",
        "# Apply embeddings to each word input\n",
        "embeds = embedding_layer(input_x)\n",
        "\n",
        "# Use Keras lambda function layer to take the mean of the 100 word vectors -- this is our averaged network (AN).\n",
        "avg = tf.keras.layers.Lambda(lambda x: K.mean(x, axis=1))(embeds)    # average of embedding vectors\n",
        "\n",
        "# add a droput layer\n",
        "d1 = tf.keras.layers.Dropout(drop, name=\"dropout1\")(avg)\n",
        "\n",
        "# add layer normalization layer\n",
        "n1 = tf.keras.layers.LayerNormalization(name=\"normalization1\")(avg)\n",
        "\n",
        "# Continue building the network graph\n",
        "hd1 = Dense(dense_size, activation='relu', name=\"hiddendrop1\")(d1)   # hidden layer - dropout side\n",
        "\n",
        "# Continue building the network graph\n",
        "hn1 = Dense(dense_size, activation='relu', name=\"hiddennorm1\")(n1)   # hidden layer - dropout side\n",
        "\n",
        "# add a droput layer\n",
        "d2 = tf.keras.layers.Dropout(drop, name=\"dropout2\")(hd1)   #dropout for dropout side\n",
        "\n",
        "# add a droput layer\n",
        "dn2 = tf.keras.layers.Dropout(drop, name=\"normdrop2\")(hn1)  #dropout for normalization and dropout side\n",
        "\n",
        "# Continue building the network graph\n",
        "hd2 = Dense(dense_size, activation='relu', name=\"hiddendrop2\")(d2)   # hidden layer - dropout side\n",
        "\n",
        "# Continue building the network graph\n",
        "hn2 = Dense(dense_size, activation='relu', name=\"hiddennorm2\")(dn2)   # hidden layer - dropout normalization side\n",
        "\n",
        "d_yhat = Dense(4, activation='softmax', name=\"drop_output\")(hd2)   # classification layer - dropout side\n",
        "dn_yhat = Dense(4, activation='softmax', name=\"dropnorm_output\")(hn2)   # classification layer - dropout normalization\n",
        "\n",
        "# use actual 2 layers as model outputs to see the effect of the layer normalization and dropout versus dropout only.\n",
        "# Note that the model outputs includes dyhat AND dnyhat\n",
        "func_model_complex_arch = tf.keras.models.Model(inputs=[input_x], outputs=[d_yhat, dn_yhat])\n",
        "\n"
      ]
    },
    {
      "cell_type": "markdown",
      "metadata": {
        "id": "QBBDCXPGScC4"
      },
      "source": [
        "Now let's compile the model to see if we've written the code properly. Note that we are indicating we want to measure the loss and the accuracy on each of the outputs."
      ]
    },
    {
      "cell_type": "code",
      "execution_count": 15,
      "metadata": {
        "id": "2nhSHmdFI4za"
      },
      "outputs": [],
      "source": [
        "# Compile the model\n",
        "func_model_complex_arch.compile(optimizer='adam',\n",
        "              loss={'drop_output':'sparse_categorical_crossentropy', 'dropnorm_output':'sparse_categorical_crossentropy'},\n",
        "              metrics = {'drop_output': 'accuracy', 'dropnorm_output': 'accuracy'}\n",
        ")"
      ]
    },
    {
      "cell_type": "markdown",
      "metadata": {
        "id": "xFqMR8JYJP19"
      },
      "source": [
        "How can we make sure we've connected our layers together properly.  Just because our model compiles doesn't mean that we've properly connected the layers.  It just means some of the layers are connected. We can clearly see the layers we're using and how they are connected.  This is also a good way to see not only ther total number of parameters in the model but also a count of the trainable and the non-trainable paramters.  Did you mean for those parameters in that layer to be frozen?"
      ]
    },
    {
      "cell_type": "code",
      "execution_count": 16,
      "metadata": {
        "colab": {
          "base_uri": "https://localhost:8080/"
        },
        "id": "IygSCNhwI4c7",
        "outputId": "35d8d2b5-cf3b-4e80-b28f-db502cc8422f"
      },
      "outputs": [
        {
          "output_type": "stream",
          "name": "stdout",
          "text": [
            "Model: \"model\"\n",
            "__________________________________________________________________________________________________\n",
            " Layer (type)                Output Shape                 Param #   Connected to                  \n",
            "==================================================================================================\n",
            " input_words (InputLayer)    [(None, 100)]                0         []                            \n",
            "                                                                                                  \n",
            " embedding (Embedding)       (None, 100, 300)             1319460   ['input_words[0][0]']         \n",
            "                                                          0                                       \n",
            "                                                                                                  \n",
            " lambda_1 (Lambda)           (None, 300)                  0         ['embedding[1][0]']           \n",
            "                                                                                                  \n",
            " dropout1 (Dropout)          (None, 300)                  0         ['lambda_1[0][0]']            \n",
            "                                                                                                  \n",
            " normalization1 (LayerNorma  (None, 300)                  600       ['lambda_1[0][0]']            \n",
            " lization)                                                                                        \n",
            "                                                                                                  \n",
            " hiddendrop1 (Dense)         (None, 252)                  75852     ['dropout1[0][0]']            \n",
            "                                                                                                  \n",
            " hiddennorm1 (Dense)         (None, 252)                  75852     ['normalization1[0][0]']      \n",
            "                                                                                                  \n",
            " dropout2 (Dropout)          (None, 252)                  0         ['hiddendrop1[0][0]']         \n",
            "                                                                                                  \n",
            " normdrop2 (Dropout)         (None, 252)                  0         ['hiddennorm1[0][0]']         \n",
            "                                                                                                  \n",
            " hiddendrop2 (Dense)         (None, 252)                  63756     ['dropout2[0][0]']            \n",
            "                                                                                                  \n",
            " hiddennorm2 (Dense)         (None, 252)                  63756     ['normdrop2[0][0]']           \n",
            "                                                                                                  \n",
            " drop_output (Dense)         (None, 4)                    1012      ['hiddendrop2[0][0]']         \n",
            "                                                                                                  \n",
            " dropnorm_output (Dense)     (None, 4)                    1012      ['hiddennorm2[0][0]']         \n",
            "                                                                                                  \n",
            "==================================================================================================\n",
            "Total params: 13476440 (51.41 MB)\n",
            "Trainable params: 281840 (1.08 MB)\n",
            "Non-trainable params: 13194600 (50.33 MB)\n",
            "__________________________________________________________________________________________________\n"
          ]
        }
      ],
      "source": [
        "func_model_complex_arch.summary()"
      ]
    },
    {
      "cell_type": "markdown",
      "metadata": {
        "id": "6Qc0bXaAQ6W3"
      },
      "source": [
        "Another way of viewing the structure of your model is to use the keras function `plot_model` which generates a nice graphic image of the architecture.  Let's look at our contrived model and see what it looks like."
      ]
    },
    {
      "cell_type": "code",
      "execution_count": 17,
      "metadata": {
        "colab": {
          "base_uri": "https://localhost:8080/",
          "height": 812
        },
        "id": "KlFomvsuP9yF",
        "outputId": "62db9877-5f94-4c9a-9276-1697e057196f"
      },
      "outputs": [
        {
          "output_type": "execute_result",
          "data": {
            "image/png": "[encoded data removed]",
            "text/plain": [
              "<IPython.core.display.Image object>"
            ]
          },
          "metadata": {},
          "execution_count": 17
        }
      ],
      "source": [
        "keras.utils.plot_model(func_model_complex_arch, show_shapes=True, dpi=90)"
      ]
    },
    {
      "cell_type": "markdown",
      "metadata": {
        "id": "acgfW5CTQ25S"
      },
      "source": [
        "Does the plot model diagram look like what we want?  What do the dimensions look like?  Have we connected our layers together properly?\n",
        "\n",
        "\n",
        "Okay, let's train the model."
      ]
    },
    {
      "cell_type": "code",
      "execution_count": 18,
      "metadata": {
        "colab": {
          "base_uri": "https://localhost:8080/"
        },
        "id": "w9qMOpzAI4Oi",
        "outputId": "fcfbc718-8f0d-4d17-e444-a1145132956f"
      },
      "outputs": [
        {
          "output_type": "stream",
          "name": "stdout",
          "text": [
            "Epoch 1/15\n",
            "40/40 [==============================] - 4s 13ms/step - loss: 2.6704 - drop_output_loss: 1.3631 - dropnorm_output_loss: 1.3074 - drop_output_accuracy: 0.3317 - dropnorm_output_accuracy: 0.3892 - val_loss: 2.5438 - val_drop_output_loss: 1.3380 - val_dropnorm_output_loss: 1.2058 - val_drop_output_accuracy: 0.3828 - val_dropnorm_output_accuracy: 0.4475\n",
            "Epoch 2/15\n",
            "40/40 [==============================] - 0s 6ms/step - loss: 2.4825 - drop_output_loss: 1.3052 - dropnorm_output_loss: 1.1773 - drop_output_accuracy: 0.3923 - dropnorm_output_accuracy: 0.4691 - val_loss: 2.3893 - val_drop_output_loss: 1.2448 - val_dropnorm_output_loss: 1.1445 - val_drop_output_accuracy: 0.4392 - val_dropnorm_output_accuracy: 0.4767\n",
            "Epoch 3/15\n",
            "40/40 [==============================] - 0s 7ms/step - loss: 2.3763 - drop_output_loss: 1.2369 - dropnorm_output_loss: 1.1394 - drop_output_accuracy: 0.4397 - dropnorm_output_accuracy: 0.4869 - val_loss: 2.3006 - val_drop_output_loss: 1.1805 - val_dropnorm_output_loss: 1.1201 - val_drop_output_accuracy: 0.4658 - val_dropnorm_output_accuracy: 0.4793\n",
            "Epoch 4/15\n",
            "40/40 [==============================] - 0s 7ms/step - loss: 2.3233 - drop_output_loss: 1.2061 - dropnorm_output_loss: 1.1172 - drop_output_accuracy: 0.4511 - dropnorm_output_accuracy: 0.5061 - val_loss: 2.2720 - val_drop_output_loss: 1.1653 - val_dropnorm_output_loss: 1.1068 - val_drop_output_accuracy: 0.4705 - val_dropnorm_output_accuracy: 0.4985\n",
            "Epoch 5/15\n",
            "40/40 [==============================] - 0s 6ms/step - loss: 2.3049 - drop_output_loss: 1.2022 - dropnorm_output_loss: 1.1026 - drop_output_accuracy: 0.4569 - dropnorm_output_accuracy: 0.5081 - val_loss: 2.2631 - val_drop_output_loss: 1.1530 - val_dropnorm_output_loss: 1.1102 - val_drop_output_accuracy: 0.4815 - val_dropnorm_output_accuracy: 0.4940\n",
            "Epoch 6/15\n",
            "40/40 [==============================] - 0s 7ms/step - loss: 2.2820 - drop_output_loss: 1.1909 - dropnorm_output_loss: 1.0911 - drop_output_accuracy: 0.4621 - dropnorm_output_accuracy: 0.5159 - val_loss: 2.2285 - val_drop_output_loss: 1.1386 - val_dropnorm_output_loss: 1.0899 - val_drop_output_accuracy: 0.4865 - val_dropnorm_output_accuracy: 0.5030\n",
            "Epoch 7/15\n",
            "40/40 [==============================] - 0s 6ms/step - loss: 2.2603 - drop_output_loss: 1.1812 - dropnorm_output_loss: 1.0791 - drop_output_accuracy: 0.4671 - dropnorm_output_accuracy: 0.5244 - val_loss: 2.2125 - val_drop_output_loss: 1.1306 - val_dropnorm_output_loss: 1.0819 - val_drop_output_accuracy: 0.4873 - val_dropnorm_output_accuracy: 0.5070\n",
            "Epoch 8/15\n",
            "40/40 [==============================] - 0s 6ms/step - loss: 2.2569 - drop_output_loss: 1.1834 - dropnorm_output_loss: 1.0735 - drop_output_accuracy: 0.4674 - dropnorm_output_accuracy: 0.5268 - val_loss: 2.2251 - val_drop_output_loss: 1.1382 - val_dropnorm_output_loss: 1.0869 - val_drop_output_accuracy: 0.4893 - val_dropnorm_output_accuracy: 0.5095\n",
            "Epoch 9/15\n",
            "40/40 [==============================] - 0s 6ms/step - loss: 2.2471 - drop_output_loss: 1.1780 - dropnorm_output_loss: 1.0691 - drop_output_accuracy: 0.4697 - dropnorm_output_accuracy: 0.5292 - val_loss: 2.1981 - val_drop_output_loss: 1.1244 - val_dropnorm_output_loss: 1.0737 - val_drop_output_accuracy: 0.4897 - val_dropnorm_output_accuracy: 0.5110\n",
            "Epoch 10/15\n",
            "40/40 [==============================] - 0s 6ms/step - loss: 2.2437 - drop_output_loss: 1.1785 - dropnorm_output_loss: 1.0653 - drop_output_accuracy: 0.4726 - dropnorm_output_accuracy: 0.5306 - val_loss: 2.2065 - val_drop_output_loss: 1.1262 - val_dropnorm_output_loss: 1.0803 - val_drop_output_accuracy: 0.4935 - val_dropnorm_output_accuracy: 0.5100\n",
            "Epoch 11/15\n",
            "40/40 [==============================] - 0s 9ms/step - loss: 2.2430 - drop_output_loss: 1.1818 - dropnorm_output_loss: 1.0612 - drop_output_accuracy: 0.4681 - dropnorm_output_accuracy: 0.5314 - val_loss: 2.1969 - val_drop_output_loss: 1.1244 - val_dropnorm_output_loss: 1.0724 - val_drop_output_accuracy: 0.4908 - val_dropnorm_output_accuracy: 0.5165\n",
            "Epoch 12/15\n",
            "40/40 [==============================] - 0s 11ms/step - loss: 2.2332 - drop_output_loss: 1.1745 - dropnorm_output_loss: 1.0587 - drop_output_accuracy: 0.4687 - dropnorm_output_accuracy: 0.5343 - val_loss: 2.1973 - val_drop_output_loss: 1.1211 - val_dropnorm_output_loss: 1.0762 - val_drop_output_accuracy: 0.4915 - val_dropnorm_output_accuracy: 0.5115\n",
            "Epoch 13/15\n",
            "40/40 [==============================] - 0s 10ms/step - loss: 2.2316 - drop_output_loss: 1.1816 - dropnorm_output_loss: 1.0500 - drop_output_accuracy: 0.4642 - dropnorm_output_accuracy: 0.5391 - val_loss: 2.2064 - val_drop_output_loss: 1.1399 - val_dropnorm_output_loss: 1.0665 - val_drop_output_accuracy: 0.4767 - val_dropnorm_output_accuracy: 0.5235\n",
            "Epoch 14/15\n",
            "40/40 [==============================] - 0s 11ms/step - loss: 2.2228 - drop_output_loss: 1.1763 - dropnorm_output_loss: 1.0465 - drop_output_accuracy: 0.4692 - dropnorm_output_accuracy: 0.5401 - val_loss: 2.2052 - val_drop_output_loss: 1.1354 - val_dropnorm_output_loss: 1.0698 - val_drop_output_accuracy: 0.4850 - val_dropnorm_output_accuracy: 0.5157\n",
            "Epoch 15/15\n",
            "40/40 [==============================] - 0s 10ms/step - loss: 2.2084 - drop_output_loss: 1.1701 - dropnorm_output_loss: 1.0382 - drop_output_accuracy: 0.4748 - dropnorm_output_accuracy: 0.5452 - val_loss: 2.1920 - val_drop_output_loss: 1.1229 - val_dropnorm_output_loss: 1.0691 - val_drop_output_accuracy: 0.4927 - val_dropnorm_output_accuracy: 0.5240\n"
          ]
        }
      ],
      "source": [
        "# Train the model\n",
        "complex_history = func_model_complex_arch.fit(train_input, train_labels, batch_size = 400, validation_split=0.2, epochs = 15)"
      ]
    },
    {
      "cell_type": "markdown",
      "metadata": {
        "id": "uMdTHKMiCqSA"
      },
      "source": [
        "<a id = 'someAnalysis'></a>\n",
        "## H. Some Rudimentary Analysis\n",
        "Why are we seeing these results.  An accuracy around 50% is not great.  If we predicted the most common class our accuracy would be around 30%, so we know our model is learning.  Let's look at two tools, the classification report and the confusion matrix to begin to dig below the surface.\n",
        "\n",
        "First, we're looking at the overall loss but we really need to see the values for each output.  We're trying to find out if dropout plus normalization is better than just dropout alone.\n",
        "\n",
        "Now we'll use the test set we set aside earlier to see how well the model is performing.  Specifically we'll use the evaluate method to pass our test records through the trained model and measure how well it does. Since our model has two outputs we'll want to see how each one of them is performing.  When we compiled the model we indicated we wanted to do so.\n"
      ]
    },
    {
      "cell_type": "code",
      "execution_count": 19,
      "metadata": {
        "colab": {
          "base_uri": "https://localhost:8080/"
        },
        "id": "njO8ui9RfPle",
        "outputId": "d96389e7-a462-4693-b23f-ef4367512140"
      },
      "outputs": [
        {
          "output_type": "stream",
          "name": "stdout",
          "text": [
            "157/157 [==============================] - 1s 4ms/step - loss: 2.2191 - drop_output_loss: 1.1291 - dropnorm_output_loss: 1.0899 - drop_output_accuracy: 0.5014 - dropnorm_output_accuracy: 0.5138\n",
            "\n",
            "loss: 2.2190723419189453\n",
            "drop_loss: 1.1291394233703613\n",
            "dropnorm_loss: 1.0899335145950317\n",
            "drop_accuracy: 0.5013999938964844\n",
            "dropnorm_accuracy: 0.5138000249862671\n"
          ]
        }
      ],
      "source": [
        "# Test the model with evaluate and print loss and and accuracy for both outputs\n",
        "loss,dhat_loss,dnhat_loss,dhat_acc,dnhat_acc=func_model_complex_arch.evaluate(x=test_input, y=test_labels)\n",
        "print()\n",
        "print(f'loss: {loss}')\n",
        "print(f'drop_loss: {dhat_loss}')\n",
        "print(f'dropnorm_loss: {dnhat_loss}')\n",
        "print(f'drop_accuracy: {dhat_acc}')\n",
        "print(f'dropnorm_accuracy: {dnhat_acc}')"
      ]
    },
    {
      "cell_type": "markdown",
      "metadata": {
        "id": "9Qt-NgcLScC6"
      },
      "source": [
        "Interesting.  It looks like the dropout and normalization is performing slightly better than just the dropout.  Let's see if we can get some more clarity.\n",
        "\n",
        "First let's assign labels to our classes -- 0, 1, 2, and 3."
      ]
    },
    {
      "cell_type": "code",
      "execution_count": 20,
      "metadata": {
        "id": "I8AVqbit9Olf"
      },
      "outputs": [],
      "source": [
        "target_names =['vneg', 'neg', 'pos', 'vpos']"
      ]
    },
    {
      "cell_type": "markdown",
      "metadata": {
        "id": "Zst8eUoaScC8"
      },
      "source": [
        "We'll use the predict method to run our set aside test data and capture the results for a more detailed examination.  Specifically, we'll capture the predictions made by both outputs.  Take a look at the shape of the output.  We have an array for of the model outputs."
      ]
    },
    {
      "cell_type": "code",
      "execution_count": 21,
      "metadata": {
        "colab": {
          "base_uri": "https://localhost:8080/"
        },
        "id": "acT0O4H4vl2Q",
        "outputId": "732c6514-54f5-4ee6-d36a-b4da8b1187f1"
      },
      "outputs": [
        {
          "output_type": "stream",
          "name": "stdout",
          "text": [
            "157/157 [==============================] - 1s 3ms/step\n"
          ]
        }
      ],
      "source": [
        "predictions_model1 = func_model_complex_arch.predict(test_input)\n",
        "drop_preds = predictions_model1[0]\n",
        "dropnorm_preds = predictions_model1[1]"
      ]
    },
    {
      "cell_type": "markdown",
      "metadata": {
        "id": "B7qKZ79n5kBn"
      },
      "source": [
        "How are we doing when we only use dropout?"
      ]
    },
    {
      "cell_type": "code",
      "execution_count": 22,
      "metadata": {
        "id": "_pUS2_jn223w"
      },
      "outputs": [],
      "source": [
        "drop_preds_max = tf.argmax(drop_preds, axis=-1)"
      ]
    },
    {
      "cell_type": "markdown",
      "metadata": {
        "id": "hJjv885iF0tH"
      },
      "source": [
        "The Scikit Learn Classification Report shows the precision and recall for each class.  You should already understand what these metrics (precision, recall, F-1) mean."
      ]
    },
    {
      "cell_type": "code",
      "execution_count": 23,
      "metadata": {
        "colab": {
          "base_uri": "https://localhost:8080/"
        },
        "id": "u7hPcPAG3VlB",
        "outputId": "d2a67b92-2638-41a5-914e-850bb05eda18"
      },
      "outputs": [
        {
          "output_type": "stream",
          "name": "stdout",
          "text": [
            "              precision    recall  f1-score   support\n",
            "\n",
            "           0       0.57      0.70      0.62      1486\n",
            "           1       0.41      0.18      0.25      1020\n",
            "           2       0.38      0.45      0.41      1111\n",
            "           3       0.55      0.57      0.56      1383\n",
            "\n",
            "    accuracy                           0.50      5000\n",
            "   macro avg       0.48      0.47      0.46      5000\n",
            "weighted avg       0.49      0.50      0.48      5000\n",
            "\n"
          ]
        }
      ],
      "source": [
        "print(classification_report(test_labels, drop_preds_max.numpy()))"
      ]
    },
    {
      "cell_type": "markdown",
      "metadata": {
        "id": "NyrbXV10GjDm"
      },
      "source": [
        "The confusion matrix shows us how often the model made the correct prediction and what class it predicted when it was wrong.  An ideal confusion matrix has a sharp diagonal line indicating the model always chose the correct class.  More often, we see confusion between specific classes."
      ]
    },
    {
      "cell_type": "code",
      "execution_count": 24,
      "metadata": {
        "id": "D-dJsfvc9OVr"
      },
      "outputs": [],
      "source": [
        "cm = tf.math.confusion_matrix(test_labels, drop_preds_max)\n",
        "cm = cm/cm.numpy().sum(axis=1)[:, tf.newaxis]"
      ]
    },
    {
      "cell_type": "code",
      "execution_count": 25,
      "metadata": {
        "colab": {
          "base_uri": "https://localhost:8080/",
          "height": 406
        },
        "id": "s6ycALB69N8v",
        "outputId": "a33dbf37-176a-45e0-c9b0-4cdaa7e05bc8"
      },
      "outputs": [
        {
          "output_type": "execute_result",
          "data": {
            "text/plain": [
              "Text(20.72222222222222, 0.5, 'True')"
            ]
          },
          "metadata": {},
          "execution_count": 25
        },
        {
          "output_type": "display_data",
          "data": {
            "text/plain": [
              "<Figure size 400x400 with 2 Axes>"
            ],
            "image/png": "[encoded data removed]"
          },
          "metadata": {}
        }
      ],
      "source": [
        "plt.figure(figsize=(4,4))\n",
        "sns.heatmap(\n",
        "    cm, annot=True,\n",
        "    xticklabels=target_names,\n",
        "    yticklabels=target_names)\n",
        "plt.xlabel(\"Predicted\")\n",
        "plt.ylabel(\"True\")"
      ]
    },
    {
      "cell_type": "markdown",
      "metadata": {
        "id": "wW09U5MV5rD3"
      },
      "source": [
        "We can see that the model does better at predicting the extreme classes -- vneg and vpos -- when relying on dropout.\n",
        "\n",
        "Does having normalization with the dropout help improve further?  Let's first look at the classification report."
      ]
    },
    {
      "cell_type": "code",
      "execution_count": 26,
      "metadata": {
        "id": "zNJFfTgO5KpU"
      },
      "outputs": [],
      "source": [
        "dropnorm_preds_max = tf.argmax(dropnorm_preds, axis=-1)"
      ]
    },
    {
      "cell_type": "code",
      "execution_count": 27,
      "metadata": {
        "colab": {
          "base_uri": "https://localhost:8080/"
        },
        "id": "56LA7nQ15KY-",
        "outputId": "cd2467d7-ca57-4a27-8a3b-ff8bb165210a"
      },
      "outputs": [
        {
          "output_type": "stream",
          "name": "stdout",
          "text": [
            "              precision    recall  f1-score   support\n",
            "\n",
            "           0       0.57      0.72      0.64      1486\n",
            "           1       0.39      0.27      0.32      1020\n",
            "           2       0.42      0.44      0.43      1111\n",
            "           3       0.59      0.53      0.56      1383\n",
            "\n",
            "    accuracy                           0.51      5000\n",
            "   macro avg       0.49      0.49      0.49      5000\n",
            "weighted avg       0.50      0.51      0.50      5000\n",
            "\n"
          ]
        }
      ],
      "source": [
        "print(classification_report(test_labels, dropnorm_preds_max.numpy()))"
      ]
    },
    {
      "cell_type": "markdown",
      "metadata": {
        "id": "YCWcg4rmG2F3"
      },
      "source": [
        "Now let's produce the Confusion Matrix for the output using **BOTH** normalization and dropout."
      ]
    },
    {
      "cell_type": "code",
      "execution_count": 28,
      "metadata": {
        "id": "4lXNsgX5_0GI"
      },
      "outputs": [],
      "source": [
        "cm2 = tf.math.confusion_matrix(test_labels, dropnorm_preds_max)\n",
        "cm2 = cm2/cm2.numpy().sum(axis=1)[:, tf.newaxis]"
      ]
    },
    {
      "cell_type": "code",
      "execution_count": 29,
      "metadata": {
        "colab": {
          "base_uri": "https://localhost:8080/",
          "height": 406
        },
        "id": "D0u3Pet7_z3o",
        "outputId": "edc1b648-60ea-4d93-d7ad-5b8eddc1bdaa"
      },
      "outputs": [
        {
          "output_type": "execute_result",
          "data": {
            "text/plain": [
              "Text(20.72222222222222, 0.5, 'True')"
            ]
          },
          "metadata": {},
          "execution_count": 29
        },
        {
          "output_type": "display_data",
          "data": {
            "text/plain": [
              "<Figure size 400x400 with 2 Axes>"
            ],
            "image/png": "[encoded data removed]"
          },
          "metadata": {}
        }
      ],
      "source": [
        "plt.figure(figsize=(4,4))\n",
        "sns.heatmap(\n",
        "    cm2, annot=True,\n",
        "    xticklabels=target_names,\n",
        "    yticklabels=target_names)\n",
        "plt.xlabel(\"Predicted\")\n",
        "plt.ylabel(\"True\")"
      ]
    },
    {
      "cell_type": "markdown",
      "source": [
        "A cursory comparison between the two outputs seems to indicate that dropout alone produces slightly better results than a combination of dropout and normalization.  In both cases the model seems to have some difficult distinguishing between the very positive and positive as well as between the very negative and negative.  This can happen for a variety of reasons one of which may be how we aggregated the training and test data into a four classes.  We'll explore that type of analysis later in the class."
      ],
      "metadata": {
        "id": "TMvqG_sIJKzD"
      }
    }
  ],
  "metadata": {
    "accelerator": "GPU",
    "colab": {
      "gpuType": "T4",
      "provenance": []
    },
    "kernelspec": {
      "display_name": "Python 3",
      "language": "python",
      "name": "python3"
    },
    "language_info": {
      "codemirror_mode": {
        "name": "ipython",
        "version": 3
      },
      "file_extension": ".py",
      "mimetype": "text/x-python",
      "name": "python",
      "nbconvert_exporter": "python",
      "pygments_lexer": "ipython3",
      "version": "3.8.5"
    }
  },
  "nbformat": 4,
  "nbformat_minor": 0
}